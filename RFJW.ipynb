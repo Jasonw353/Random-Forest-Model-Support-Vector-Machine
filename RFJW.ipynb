{
 "cells": [
  {
   "cell_type": "code",
   "execution_count": 1,
   "id": "4cf5ceda-0943-41e0-be0b-a41aef431c0c",
   "metadata": {
    "tags": []
   },
   "outputs": [],
   "source": [
    "# Logistic Regression with BankChurn.csv and statsmodels library "
   ]
  },
  {
   "cell_type": "code",
   "execution_count": 2,
   "id": "4845bebe-ed1e-452b-ac8d-7bb9faea364f",
   "metadata": {
    "tags": []
   },
   "outputs": [],
   "source": [
    "# BankChurn.csv dataset is in the folder C:\\Users\\jason\\OneDrive\\Documents\\MBAD 6211 "
   ]
  },
  {
   "cell_type": "code",
   "execution_count": 3,
   "id": "ed0e53e3-3b7c-4543-8ac8-a280d2b93c6b",
   "metadata": {
    "tags": []
   },
   "outputs": [],
   "source": [
    "#Import the os library to use file and folder methods\n",
    "import os"
   ]
  },
  {
   "cell_type": "code",
   "execution_count": 4,
   "id": "53da08fc-6795-4b17-b3b6-f4fe6b845326",
   "metadata": {
    "tags": []
   },
   "outputs": [
    {
     "data": {
      "text/plain": [
       "'C:\\\\Users\\\\jason'"
      ]
     },
     "execution_count": 4,
     "metadata": {},
     "output_type": "execute_result"
    }
   ],
   "source": [
    "# view the current working directory\n",
    "os.getcwd()"
   ]
  },
  {
   "cell_type": "code",
   "execution_count": 5,
   "id": "d6b30da7-5b93-4189-aea4-33511379fb2a",
   "metadata": {
    "tags": []
   },
   "outputs": [
    {
     "data": {
      "text/plain": [
       "'C:\\\\Users\\\\jason'"
      ]
     },
     "execution_count": 5,
     "metadata": {},
     "output_type": "execute_result"
    }
   ],
   "source": [
    "os.getcwd()"
   ]
  },
  {
   "cell_type": "code",
   "execution_count": 6,
   "id": "bda57ddf-0720-4c5f-8719-dda7d3e3a110",
   "metadata": {
    "tags": []
   },
   "outputs": [],
   "source": [
    "#import necessary libraries for problem solving\n",
    "import pandas as pd\n",
    "import numpy as np\n",
    "from sklearn.model_selection import train_test_split\n",
    "from sklearn import metrics"
   ]
  },
  {
   "cell_type": "code",
   "execution_count": 7,
   "id": "43660821-5be1-48d2-8906-bec2678b9287",
   "metadata": {
    "tags": []
   },
   "outputs": [],
   "source": [
    "# read data from Organics.csv into a dataframe\n",
    "file_path = r'C:\\Users\\jason\\OneDrive\\Documents\\MBAD 6211 LAST SEMESTER\\bankchurn.csv'\n",
    "data = pd.read_csv(file_path)"
   ]
  },
  {
   "cell_type": "code",
   "execution_count": 8,
   "id": "abb95851-0920-49bb-bf99-5375ac09dd27",
   "metadata": {
    "tags": []
   },
   "outputs": [
    {
     "name": "stdout",
     "output_type": "stream",
     "text": [
      "<class 'pandas.core.frame.DataFrame'>\n",
      "RangeIndex: 10000 entries, 0 to 9999\n",
      "Data columns (total 12 columns):\n",
      " #   Column            Non-Null Count  Dtype  \n",
      "---  ------            --------------  -----  \n",
      " 0   customer_id       10000 non-null  int64  \n",
      " 1   credit_score      10000 non-null  int64  \n",
      " 2   country           9994 non-null   object \n",
      " 3   gender            9993 non-null   object \n",
      " 4   age               9999 non-null   float64\n",
      " 5   tenure            9998 non-null   float64\n",
      " 6   balance           6383 non-null   float64\n",
      " 7   products_number   9995 non-null   float64\n",
      " 8   credit_card       9998 non-null   float64\n",
      " 9   active_member     9999 non-null   float64\n",
      " 10  estimated_salary  9998 non-null   float64\n",
      " 11  churn             10000 non-null  int64  \n",
      "dtypes: float64(7), int64(3), object(2)\n",
      "memory usage: 937.6+ KB\n"
     ]
    }
   ],
   "source": [
    "# examine the dataframe's characteristics\n",
    "data.info()"
   ]
  },
  {
   "cell_type": "code",
   "execution_count": 9,
   "id": "fe8120f5-7acb-40ff-860c-0d692c3e7144",
   "metadata": {
    "tags": []
   },
   "outputs": [
    {
     "data": {
      "text/plain": [
       "customer_id            0\n",
       "credit_score           0\n",
       "country                6\n",
       "gender                 7\n",
       "age                    1\n",
       "tenure                 2\n",
       "balance             3617\n",
       "products_number        5\n",
       "credit_card            2\n",
       "active_member          1\n",
       "estimated_salary       2\n",
       "churn                  0\n",
       "dtype: int64"
      ]
     },
     "execution_count": 9,
     "metadata": {},
     "output_type": "execute_result"
    }
   ],
   "source": [
    "# count the rows with missing values\n",
    "data.isnull().sum()"
   ]
  },
  {
   "cell_type": "code",
   "execution_count": 10,
   "id": "4201affe-b847-4e77-9395-65e11c269598",
   "metadata": {
    "tags": []
   },
   "outputs": [
    {
     "name": "stdout",
     "output_type": "stream",
     "text": [
      "<class 'pandas.core.frame.DataFrame'>\n",
      "Index: 6377 entries, 1 to 9999\n",
      "Data columns (total 12 columns):\n",
      " #   Column            Non-Null Count  Dtype  \n",
      "---  ------            --------------  -----  \n",
      " 0   customer_id       6377 non-null   int64  \n",
      " 1   credit_score      6377 non-null   int64  \n",
      " 2   country           6377 non-null   object \n",
      " 3   gender            6377 non-null   object \n",
      " 4   age               6377 non-null   float64\n",
      " 5   tenure            6377 non-null   float64\n",
      " 6   balance           6377 non-null   float64\n",
      " 7   products_number   6377 non-null   float64\n",
      " 8   credit_card       6377 non-null   float64\n",
      " 9   active_member     6377 non-null   float64\n",
      " 10  estimated_salary  6377 non-null   float64\n",
      " 11  churn             6377 non-null   int64  \n",
      "dtypes: float64(7), int64(3), object(2)\n",
      "memory usage: 647.7+ KB\n"
     ]
    }
   ],
   "source": [
    "# drop rows with missing values\n",
    "data_nonull = data.dropna()\n",
    "data_nonull.info()"
   ]
  },
  {
   "cell_type": "code",
   "execution_count": 11,
   "id": "ea936494-3f3d-4c12-8a33-94c71233c7a5",
   "metadata": {
    "tags": []
   },
   "outputs": [
    {
     "data": {
      "text/html": [
       "<div>\n",
       "<style scoped>\n",
       "    .dataframe tbody tr th:only-of-type {\n",
       "        vertical-align: middle;\n",
       "    }\n",
       "\n",
       "    .dataframe tbody tr th {\n",
       "        vertical-align: top;\n",
       "    }\n",
       "\n",
       "    .dataframe thead th {\n",
       "        text-align: right;\n",
       "    }\n",
       "</style>\n",
       "<table border=\"1\" class=\"dataframe\">\n",
       "  <thead>\n",
       "    <tr style=\"text-align: right;\">\n",
       "      <th></th>\n",
       "      <th>credit_score</th>\n",
       "      <th>country</th>\n",
       "      <th>gender</th>\n",
       "      <th>age</th>\n",
       "      <th>tenure</th>\n",
       "      <th>balance</th>\n",
       "      <th>products_number</th>\n",
       "      <th>credit_card</th>\n",
       "      <th>active_member</th>\n",
       "      <th>estimated_salary</th>\n",
       "      <th>churn</th>\n",
       "    </tr>\n",
       "  </thead>\n",
       "  <tbody>\n",
       "    <tr>\n",
       "      <th>1</th>\n",
       "      <td>608</td>\n",
       "      <td>Spain</td>\n",
       "      <td>Female</td>\n",
       "      <td>41.0</td>\n",
       "      <td>1.0</td>\n",
       "      <td>83807.86</td>\n",
       "      <td>1.0</td>\n",
       "      <td>0.0</td>\n",
       "      <td>1.0</td>\n",
       "      <td>112542.58</td>\n",
       "      <td>0</td>\n",
       "    </tr>\n",
       "    <tr>\n",
       "      <th>2</th>\n",
       "      <td>502</td>\n",
       "      <td>France</td>\n",
       "      <td>Female</td>\n",
       "      <td>42.0</td>\n",
       "      <td>8.0</td>\n",
       "      <td>159660.80</td>\n",
       "      <td>3.0</td>\n",
       "      <td>1.0</td>\n",
       "      <td>0.0</td>\n",
       "      <td>113931.57</td>\n",
       "      <td>1</td>\n",
       "    </tr>\n",
       "    <tr>\n",
       "      <th>4</th>\n",
       "      <td>850</td>\n",
       "      <td>Spain</td>\n",
       "      <td>Female</td>\n",
       "      <td>43.0</td>\n",
       "      <td>2.0</td>\n",
       "      <td>125510.82</td>\n",
       "      <td>1.0</td>\n",
       "      <td>1.0</td>\n",
       "      <td>1.0</td>\n",
       "      <td>79084.10</td>\n",
       "      <td>0</td>\n",
       "    </tr>\n",
       "    <tr>\n",
       "      <th>5</th>\n",
       "      <td>645</td>\n",
       "      <td>Spain</td>\n",
       "      <td>Male</td>\n",
       "      <td>44.0</td>\n",
       "      <td>8.0</td>\n",
       "      <td>113755.78</td>\n",
       "      <td>2.0</td>\n",
       "      <td>1.0</td>\n",
       "      <td>0.0</td>\n",
       "      <td>149756.71</td>\n",
       "      <td>1</td>\n",
       "    </tr>\n",
       "    <tr>\n",
       "      <th>7</th>\n",
       "      <td>376</td>\n",
       "      <td>Germany</td>\n",
       "      <td>Female</td>\n",
       "      <td>29.0</td>\n",
       "      <td>4.0</td>\n",
       "      <td>115046.74</td>\n",
       "      <td>4.0</td>\n",
       "      <td>1.0</td>\n",
       "      <td>0.0</td>\n",
       "      <td>119346.88</td>\n",
       "      <td>1</td>\n",
       "    </tr>\n",
       "  </tbody>\n",
       "</table>\n",
       "</div>"
      ],
      "text/plain": [
       "   credit_score  country  gender   age  tenure    balance  products_number  \\\n",
       "1           608    Spain  Female  41.0     1.0   83807.86              1.0   \n",
       "2           502   France  Female  42.0     8.0  159660.80              3.0   \n",
       "4           850    Spain  Female  43.0     2.0  125510.82              1.0   \n",
       "5           645    Spain    Male  44.0     8.0  113755.78              2.0   \n",
       "7           376  Germany  Female  29.0     4.0  115046.74              4.0   \n",
       "\n",
       "   credit_card  active_member  estimated_salary  churn  \n",
       "1          0.0            1.0         112542.58      0  \n",
       "2          1.0            0.0         113931.57      1  \n",
       "4          1.0            1.0          79084.10      0  \n",
       "5          1.0            0.0         149756.71      1  \n",
       "7          1.0            0.0         119346.88      1  "
      ]
     },
     "execution_count": 11,
     "metadata": {},
     "output_type": "execute_result"
    }
   ],
   "source": [
    "data_nonull = data_nonull.drop([\"customer_id\"], axis = 1)\n",
    "data_nonull.head()"
   ]
  },
  {
   "cell_type": "code",
   "execution_count": 12,
   "id": "50348e74-4ad1-4b29-9fff-d1fc626ffb76",
   "metadata": {
    "tags": []
   },
   "outputs": [
    {
     "data": {
      "text/html": [
       "<div>\n",
       "<style scoped>\n",
       "    .dataframe tbody tr th:only-of-type {\n",
       "        vertical-align: middle;\n",
       "    }\n",
       "\n",
       "    .dataframe tbody tr th {\n",
       "        vertical-align: top;\n",
       "    }\n",
       "\n",
       "    .dataframe thead th {\n",
       "        text-align: right;\n",
       "    }\n",
       "</style>\n",
       "<table border=\"1\" class=\"dataframe\">\n",
       "  <thead>\n",
       "    <tr style=\"text-align: right;\">\n",
       "      <th></th>\n",
       "      <th>credit_score</th>\n",
       "      <th>age</th>\n",
       "      <th>tenure</th>\n",
       "      <th>balance</th>\n",
       "      <th>products_number</th>\n",
       "      <th>credit_card</th>\n",
       "      <th>active_member</th>\n",
       "      <th>estimated_salary</th>\n",
       "      <th>churn</th>\n",
       "      <th>country_France</th>\n",
       "      <th>country_Germany</th>\n",
       "      <th>country_Spain</th>\n",
       "      <th>gender_Female</th>\n",
       "      <th>gender_Male</th>\n",
       "    </tr>\n",
       "  </thead>\n",
       "  <tbody>\n",
       "    <tr>\n",
       "      <th>1</th>\n",
       "      <td>608</td>\n",
       "      <td>41.0</td>\n",
       "      <td>1.0</td>\n",
       "      <td>83807.86</td>\n",
       "      <td>1.0</td>\n",
       "      <td>0.0</td>\n",
       "      <td>1.0</td>\n",
       "      <td>112542.58</td>\n",
       "      <td>0</td>\n",
       "      <td>0</td>\n",
       "      <td>0</td>\n",
       "      <td>1</td>\n",
       "      <td>1</td>\n",
       "      <td>0</td>\n",
       "    </tr>\n",
       "    <tr>\n",
       "      <th>2</th>\n",
       "      <td>502</td>\n",
       "      <td>42.0</td>\n",
       "      <td>8.0</td>\n",
       "      <td>159660.80</td>\n",
       "      <td>3.0</td>\n",
       "      <td>1.0</td>\n",
       "      <td>0.0</td>\n",
       "      <td>113931.57</td>\n",
       "      <td>1</td>\n",
       "      <td>1</td>\n",
       "      <td>0</td>\n",
       "      <td>0</td>\n",
       "      <td>1</td>\n",
       "      <td>0</td>\n",
       "    </tr>\n",
       "    <tr>\n",
       "      <th>4</th>\n",
       "      <td>850</td>\n",
       "      <td>43.0</td>\n",
       "      <td>2.0</td>\n",
       "      <td>125510.82</td>\n",
       "      <td>1.0</td>\n",
       "      <td>1.0</td>\n",
       "      <td>1.0</td>\n",
       "      <td>79084.10</td>\n",
       "      <td>0</td>\n",
       "      <td>0</td>\n",
       "      <td>0</td>\n",
       "      <td>1</td>\n",
       "      <td>1</td>\n",
       "      <td>0</td>\n",
       "    </tr>\n",
       "    <tr>\n",
       "      <th>5</th>\n",
       "      <td>645</td>\n",
       "      <td>44.0</td>\n",
       "      <td>8.0</td>\n",
       "      <td>113755.78</td>\n",
       "      <td>2.0</td>\n",
       "      <td>1.0</td>\n",
       "      <td>0.0</td>\n",
       "      <td>149756.71</td>\n",
       "      <td>1</td>\n",
       "      <td>0</td>\n",
       "      <td>0</td>\n",
       "      <td>1</td>\n",
       "      <td>0</td>\n",
       "      <td>1</td>\n",
       "    </tr>\n",
       "    <tr>\n",
       "      <th>7</th>\n",
       "      <td>376</td>\n",
       "      <td>29.0</td>\n",
       "      <td>4.0</td>\n",
       "      <td>115046.74</td>\n",
       "      <td>4.0</td>\n",
       "      <td>1.0</td>\n",
       "      <td>0.0</td>\n",
       "      <td>119346.88</td>\n",
       "      <td>1</td>\n",
       "      <td>0</td>\n",
       "      <td>1</td>\n",
       "      <td>0</td>\n",
       "      <td>1</td>\n",
       "      <td>0</td>\n",
       "    </tr>\n",
       "    <tr>\n",
       "      <th>...</th>\n",
       "      <td>...</td>\n",
       "      <td>...</td>\n",
       "      <td>...</td>\n",
       "      <td>...</td>\n",
       "      <td>...</td>\n",
       "      <td>...</td>\n",
       "      <td>...</td>\n",
       "      <td>...</td>\n",
       "      <td>...</td>\n",
       "      <td>...</td>\n",
       "      <td>...</td>\n",
       "      <td>...</td>\n",
       "      <td>...</td>\n",
       "      <td>...</td>\n",
       "    </tr>\n",
       "    <tr>\n",
       "      <th>9991</th>\n",
       "      <td>597</td>\n",
       "      <td>53.0</td>\n",
       "      <td>4.0</td>\n",
       "      <td>88381.21</td>\n",
       "      <td>1.0</td>\n",
       "      <td>1.0</td>\n",
       "      <td>0.0</td>\n",
       "      <td>69384.71</td>\n",
       "      <td>1</td>\n",
       "      <td>1</td>\n",
       "      <td>0</td>\n",
       "      <td>0</td>\n",
       "      <td>1</td>\n",
       "      <td>0</td>\n",
       "    </tr>\n",
       "    <tr>\n",
       "      <th>9993</th>\n",
       "      <td>644</td>\n",
       "      <td>28.0</td>\n",
       "      <td>7.0</td>\n",
       "      <td>155060.41</td>\n",
       "      <td>1.0</td>\n",
       "      <td>1.0</td>\n",
       "      <td>0.0</td>\n",
       "      <td>29179.52</td>\n",
       "      <td>0</td>\n",
       "      <td>1</td>\n",
       "      <td>0</td>\n",
       "      <td>0</td>\n",
       "      <td>0</td>\n",
       "      <td>1</td>\n",
       "    </tr>\n",
       "    <tr>\n",
       "      <th>9996</th>\n",
       "      <td>516</td>\n",
       "      <td>35.0</td>\n",
       "      <td>10.0</td>\n",
       "      <td>57369.61</td>\n",
       "      <td>1.0</td>\n",
       "      <td>1.0</td>\n",
       "      <td>1.0</td>\n",
       "      <td>101699.77</td>\n",
       "      <td>0</td>\n",
       "      <td>1</td>\n",
       "      <td>0</td>\n",
       "      <td>0</td>\n",
       "      <td>0</td>\n",
       "      <td>1</td>\n",
       "    </tr>\n",
       "    <tr>\n",
       "      <th>9998</th>\n",
       "      <td>772</td>\n",
       "      <td>42.0</td>\n",
       "      <td>3.0</td>\n",
       "      <td>75075.31</td>\n",
       "      <td>2.0</td>\n",
       "      <td>1.0</td>\n",
       "      <td>0.0</td>\n",
       "      <td>92888.52</td>\n",
       "      <td>1</td>\n",
       "      <td>0</td>\n",
       "      <td>1</td>\n",
       "      <td>0</td>\n",
       "      <td>0</td>\n",
       "      <td>1</td>\n",
       "    </tr>\n",
       "    <tr>\n",
       "      <th>9999</th>\n",
       "      <td>792</td>\n",
       "      <td>28.0</td>\n",
       "      <td>4.0</td>\n",
       "      <td>130142.79</td>\n",
       "      <td>1.0</td>\n",
       "      <td>1.0</td>\n",
       "      <td>0.0</td>\n",
       "      <td>38190.78</td>\n",
       "      <td>0</td>\n",
       "      <td>1</td>\n",
       "      <td>0</td>\n",
       "      <td>0</td>\n",
       "      <td>1</td>\n",
       "      <td>0</td>\n",
       "    </tr>\n",
       "  </tbody>\n",
       "</table>\n",
       "<p>6377 rows × 14 columns</p>\n",
       "</div>"
      ],
      "text/plain": [
       "      credit_score   age  tenure    balance  products_number  credit_card  \\\n",
       "1              608  41.0     1.0   83807.86              1.0          0.0   \n",
       "2              502  42.0     8.0  159660.80              3.0          1.0   \n",
       "4              850  43.0     2.0  125510.82              1.0          1.0   \n",
       "5              645  44.0     8.0  113755.78              2.0          1.0   \n",
       "7              376  29.0     4.0  115046.74              4.0          1.0   \n",
       "...            ...   ...     ...        ...              ...          ...   \n",
       "9991           597  53.0     4.0   88381.21              1.0          1.0   \n",
       "9993           644  28.0     7.0  155060.41              1.0          1.0   \n",
       "9996           516  35.0    10.0   57369.61              1.0          1.0   \n",
       "9998           772  42.0     3.0   75075.31              2.0          1.0   \n",
       "9999           792  28.0     4.0  130142.79              1.0          1.0   \n",
       "\n",
       "      active_member  estimated_salary  churn  country_France  country_Germany  \\\n",
       "1               1.0         112542.58      0               0                0   \n",
       "2               0.0         113931.57      1               1                0   \n",
       "4               1.0          79084.10      0               0                0   \n",
       "5               0.0         149756.71      1               0                0   \n",
       "7               0.0         119346.88      1               0                1   \n",
       "...             ...               ...    ...             ...              ...   \n",
       "9991            0.0          69384.71      1               1                0   \n",
       "9993            0.0          29179.52      0               1                0   \n",
       "9996            1.0         101699.77      0               1                0   \n",
       "9998            0.0          92888.52      1               0                1   \n",
       "9999            0.0          38190.78      0               1                0   \n",
       "\n",
       "      country_Spain  gender_Female  gender_Male  \n",
       "1                 1              1            0  \n",
       "2                 0              1            0  \n",
       "4                 1              1            0  \n",
       "5                 1              0            1  \n",
       "7                 0              1            0  \n",
       "...             ...            ...          ...  \n",
       "9991              0              1            0  \n",
       "9993              0              0            1  \n",
       "9996              0              0            1  \n",
       "9998              0              0            1  \n",
       "9999              0              1            0  \n",
       "\n",
       "[6377 rows x 14 columns]"
      ]
     },
     "execution_count": 12,
     "metadata": {},
     "output_type": "execute_result"
    }
   ],
   "source": [
    "# us pd.getdummies() method to create the dummy columns\n",
    "# make sure to set parameter dtype = int.\n",
    "data_nonull = pd.get_dummies(data_nonull, dtype = int)\n",
    "data_nonull"
   ]
  },
  {
   "cell_type": "code",
   "execution_count": 13,
   "id": "065139b1-170d-44d2-8592-9bfacc4c4b4e",
   "metadata": {
    "tags": []
   },
   "outputs": [],
   "source": [
    "# make y (dependent variable) as np.array\n",
    "y = np.array(data_nonull[\"churn\"])\n",
    "\n",
    "# make x a dataframe subset with independent variables\n",
    "x = data_nonull.drop(\"churn\", axis=1)\n"
   ]
  },
  {
   "cell_type": "code",
   "execution_count": 14,
   "id": "07762090-6a18-4e8c-b587-0309ccc4a688",
   "metadata": {
    "tags": []
   },
   "outputs": [],
   "source": [
    "# split the dataset into training and testing\n",
    "# since random sampling is used, set the random seed to a fixed value\n",
    "X_train, X_test, y_train, y_test = train_test_split(x, y, test_size = 0.30, random_state = 44)"
   ]
  },
  {
   "cell_type": "code",
   "execution_count": 15,
   "id": "f69fe736-dfc1-4a10-bcde-cb674a684335",
   "metadata": {
    "tags": []
   },
   "outputs": [],
   "source": [
    "# Decision tree with gini index\n",
    "from sklearn.tree import DecisionTreeClassifier\n",
    "\n",
    "# Create a Decision Tree Classifier using Gini index\n",
    "clf_gini = DecisionTreeClassifier(criterion='gini', random_state=42)\n",
    "\n",
    "# Train the model\n",
    "clf_gini.fit(X_train, y_train)\n",
    "\n",
    "# Predict the responses for test dataset\n",
    "y_pred_dt = clf_gini.predict(X_test)"
   ]
  },
  {
   "cell_type": "code",
   "execution_count": 16,
   "id": "b3f4a984-2b07-4b7f-a256-d97f211d2fcb",
   "metadata": {
    "tags": []
   },
   "outputs": [
    {
     "name": "stdout",
     "output_type": "stream",
     "text": [
      "\n",
      "Accuracy: 0.7445141065830722\n",
      "\n",
      "Confusion Matrix:\n",
      " [[1172  297]\n",
      " [ 192  253]]\n"
     ]
    }
   ],
   "source": [
    "# Calculate accuracy\n",
    "accuracy = metrics.accuracy_score(y_test, y_pred_dt)\n",
    "\n",
    "# Calculate confusion matrix\n",
    "conf_matrix = metrics.confusion_matrix(y_test, y_pred_dt)\n",
    "\n",
    "# Print accuracy, and confusion matrix\n",
    "print(\"\\nAccuracy:\", accuracy)\n",
    "print(\"\\nConfusion Matrix:\\n\", conf_matrix)"
   ]
  },
  {
   "cell_type": "code",
   "execution_count": 17,
   "id": "ba7620f5-51d2-4ec4-b191-6f7e587ef2d6",
   "metadata": {
    "tags": []
   },
   "outputs": [],
   "source": [
    "# Random Forest Classifier\n",
    "from sklearn.ensemble import RandomForestClassifier\n",
    "\n",
    "# Create a Random Forest Classifier\n",
    "clf = RandomForestClassifier(n_estimators=1000, random_state=42)\n",
    "\n",
    "# Train the model\n",
    "clf.fit(X_train, y_train)\n",
    "\n",
    "# Model predictions\n",
    "y_pred_rf = clf.predict(X_test)"
   ]
  },
  {
   "cell_type": "code",
   "execution_count": 18,
   "id": "f19e68f1-ec77-4a30-8c2b-6d862a8824a7",
   "metadata": {
    "tags": []
   },
   "outputs": [
    {
     "name": "stdout",
     "output_type": "stream",
     "text": [
      "\n",
      "Accuracy: 0.8396029258098223\n",
      "\n",
      "Confusion Matrix:\n",
      " [[1391   78]\n",
      " [ 229  216]]\n"
     ]
    }
   ],
   "source": [
    "# Calculate accuracy of Random Forest\n",
    "accuracy = metrics.accuracy_score(y_test, y_pred_rf)\n",
    "\n",
    "# Calculate confusion matrix\n",
    "conf_matrix = metrics.confusion_matrix(y_test, y_pred_rf)\n",
    "\n",
    "# Print accuracy, and confusion matrix\n",
    "print(\"\\nAccuracy:\", accuracy)\n",
    "print(\"\\nConfusion Matrix:\\n\", conf_matrix)"
   ]
  },
  {
   "cell_type": "code",
   "execution_count": null,
   "id": "1418296f-66af-4ec2-8086-c5a7ee3ada7e",
   "metadata": {},
   "outputs": [],
   "source": []
  },
  {
   "cell_type": "code",
   "execution_count": 19,
   "id": "a71afa93-544a-4ec2-8c0e-50d1dfbae9da",
   "metadata": {
    "tags": []
   },
   "outputs": [
    {
     "name": "stdout",
     "output_type": "stream",
     "text": [
      "Start search time: 2024-02-22 22:56:22.046903\n",
      "Accuracy: 0.8448275862068966\n",
      "\n",
      "Confusion Matrix:\n",
      " [[1391   78]\n",
      " [ 229  216]]\n"
     ]
    }
   ],
   "source": [
    "from sklearn.model_selection import train_test_split, GridSearchCV\n",
    "from sklearn.ensemble import RandomForestClassifier\n",
    "from sklearn import metrics\n",
    "import pandas as pd\n",
    "\n",
    "from datetime import datetime\n",
    "print(\"Start search time:\", datetime.now())\n",
    "\n",
    "# Set up the parameter grid\n",
    "param_grid = {\n",
    "    'n_estimators': [100, 200, 300],\n",
    "    'max_depth': [10, 20, 30],\n",
    "    'min_samples_split': [2, 5, 10],\n",
    "    'min_samples_leaf': [1, 2, 4]\n",
    "}\n",
    "\n",
    "# Instantiate the model\n",
    "rf = RandomForestClassifier()\n",
    "\n",
    "# Instantiate the GridSearchCV\n",
    "grid_search = GridSearchCV(rf, param_grid, cv=5)\n",
    "\n",
    "# Fit the model\n",
    "grid_search.fit(X_train, y_train)\n",
    "\n",
    "# Calculate confusion matrix\n",
    "conf_matrix = metrics.confusion_matrix(y_test, y_pred_rf)\n",
    "\n",
    "# Evaluate the model\n",
    "y_pred = grid_search.predict(X_test)\n",
    "print(\"Accuracy:\", metrics.accuracy_score(y_test, y_pred))\n",
    "print(\"\\nConfusion Matrix:\\n\", conf_matrix)"
   ]
  },
  {
   "cell_type": "code",
   "execution_count": 20,
   "id": "7debbe5d-302d-4176-ba8e-af4d5defec30",
   "metadata": {
    "tags": []
   },
   "outputs": [
    {
     "name": "stdout",
     "output_type": "stream",
     "text": [
      "Start search time: 2024-02-22 23:03:59.651570\n",
      "\n",
      "Accuracy: 0.835423197492163\n",
      "\n",
      "Confusion Matrix:\n",
      " [[1387   82]\n",
      " [ 233  212]]\n"
     ]
    }
   ],
   "source": [
    "# Random Forest Classifier\n",
    "from sklearn.ensemble import RandomForestClassifier\n",
    "\n",
    "from datetime import datetime\n",
    "print(\"Start search time:\", datetime.now())\n",
    "\n",
    "# Create a Random Forest Classifier\n",
    "clf = RandomForestClassifier(n_estimators=100, random_state=42)\n",
    "\n",
    "# Train the model\n",
    "clf.fit(X_train, y_train)\n",
    "\n",
    "# Model predictions\n",
    "y_pred_rf = clf.predict(X_test)\n",
    "\n",
    "# Calculate accuracy of Random Forest\n",
    "accuracy = metrics.accuracy_score(y_test, y_pred_rf)\n",
    "\n",
    "# Calculate confusion matrixOpt\n",
    "conf_matrix = metrics.confusion_matrix(y_test, y_pred_rf)\n",
    "\n",
    "# Print accuracy, and confusion matrix\n",
    "print(\"\\nAccuracy:\", accuracy)\n",
    "print(\"\\nConfusion Matrix:\\n\", conf_matrix)"
   ]
  },
  {
   "cell_type": "code",
   "execution_count": 21,
   "id": "a94feccb-70e4-4078-a97a-c8d6280c6f20",
   "metadata": {
    "tags": []
   },
   "outputs": [
    {
     "name": "stdout",
     "output_type": "stream",
     "text": [
      "Start search time: 2024-02-22 23:04:00.514379\n",
      "Fitting 3 folds for each of 36 candidates, totalling 108 fits\n",
      "Best parameters: {'criterion': 'entropy', 'max_depth': 8, 'max_features': 'sqrt', 'n_estimators': 300}\n",
      "Best estimator: RandomForestClassifier(criterion='entropy', max_depth=8, n_estimators=300,\n",
      "                       random_state=10)\n",
      "Feature importance: [0.0638148  0.36890072 0.03571292 0.09823979 0.20277916 0.00851014\n",
      " 0.06306899 0.06857978 0.01547381 0.03697048 0.00914707 0.01372482\n",
      " 0.01507752]\n",
      "End search time: 2024-02-22 23:05:09.224457\n",
      "\n",
      "Accuracy: 0.8458725182863114\n"
     ]
    },
    {
     "data": {
      "image/png": "[encoded data removed]",
      "text/plain": [
       "<Figure size 640x480 with 2 Axes>"
      ]
     },
     "metadata": {},
     "output_type": "display_data"
    }
   ],
   "source": [
    "# Random Forest - Fine tuning with GridSearchCV\n",
    "# using datetime to time the fine tuning process\n",
    "from datetime import datetime\n",
    "print(\"Start search time:\", datetime.now())\n",
    "\n",
    "from sklearn.ensemble import RandomForestClassifier\n",
    "\n",
    "# find the best parameters \n",
    "from sklearn.model_selection import GridSearchCV\n",
    "\n",
    "# RF -- Tunning parameters \n",
    "# Define the parameter grid\n",
    "param = {\n",
    "    'n_estimators': [100, 200, 300],  # Number of trees in the forest\n",
    "    'max_features': ['sqrt', 'log2'],  # Number of features to consider at every split\n",
    "    'max_depth': [4, 6, 8],  # Maximum number of levels in tree\n",
    "    'criterion': ['gini', 'entropy']  # Function to measure the quality of a split\n",
    "} \n",
    "\n",
    "RF = RandomForestClassifier(random_state=10)\n",
    "\n",
    "# search parameters: cv=cross validation blocks; verbose=higher value show more steps\n",
    "# n_jobs=-1 uses all available CPU cores; \n",
    "grid = GridSearchCV(estimator=RF, \n",
    "                    param_grid=param,\n",
    "                    scoring=\"accuracy\",\n",
    "                    verbose=1, cv=3)\n",
    "\n",
    "grid.fit(X_train, y_train)\n",
    "\n",
    "print(\"Best parameters:\", grid.best_params_)\n",
    "\n",
    "print(\"Best estimator:\", grid.best_estimator_)\n",
    "\n",
    "print(\"Feature importance:\", grid.best_estimator_.feature_importances_)\n",
    "\n",
    "# end grid search\n",
    "print(\"End search time:\", datetime.now())\n",
    "\n",
    "# confusion matrix \n",
    "\n",
    "final_model_rf = grid.best_estimator_\n",
    "\n",
    "y_pred = final_model_rf.predict(X_test)\n",
    "\n",
    "# get accuracy and confusion matrix\n",
    "accuracy = metrics.accuracy_score(y_test, y_pred)\n",
    "print(\"\\nAccuracy:\", accuracy)\n",
    "\n",
    "cm = metrics.confusion_matrix(y_test,y_pred) # row - true value; column - predicted\n",
    "disp = metrics.ConfusionMatrixDisplay(confusion_matrix=cm).plot()"
   ]
  },
  {
   "cell_type": "code",
   "execution_count": 22,
   "id": "2fa6e275-7951-4abd-9071-ba2972e12f86",
   "metadata": {},
   "outputs": [
    {
     "name": "stdout",
     "output_type": "stream",
     "text": [
      "Start search time: 2024-02-22 23:05:09.832116\n",
      "\n",
      "Accuracy: 0.7591431556948798\n",
      "\n",
      "Confusion Matrix:\n",
      " [[1430   39]\n",
      " [ 422   23]]\n"
     ]
    }
   ],
   "source": [
    "# import SVC from sklearn\n",
    "from sklearn.svm import SVC\n",
    "\n",
    "from datetime import datetime\n",
    "print(\"Start search time:\", datetime.now())\n",
    "\n",
    "# Initialize SVM classifier with a linear kernel\n",
    "svm_classifier = SVC(kernel='linear', random_state=42)\n",
    "\n",
    "# Train the model on the training set\n",
    "svm_classifier.fit(X_train, y_train)\n",
    "\n",
    "# Predict the responses for the test set\n",
    "y_pred_svm = svm_classifier.predict(X_test)\n",
    "\n",
    "# Calculate accuracy\n",
    "accuracy = metrics.accuracy_score(y_test, y_pred_svm)\n",
    "\n",
    "# Calculate confusion matrix\n",
    "conf_matrix = metrics.confusion_matrix(y_test, y_pred_svm)\n",
    "\n",
    "print(\"\\nAccuracy:\", accuracy)\n",
    "print(\"\\nConfusion Matrix:\\n\", conf_matrix)"
   ]
  },
  {
   "cell_type": "code",
   "execution_count": 21,
   "id": "292d0046-157f-44ab-82bd-4a84c82744ab",
   "metadata": {
    "tags": []
   },
   "outputs": [
    {
     "name": "stdout",
     "output_type": "stream",
     "text": [
      "Start search time: 2024-02-23 12:52:40.082126\n",
      "\n",
      "Accuracy: 0.7675026123301986\n",
      "\n",
      "Confusion Matrix:\n",
      " [[1469    0]\n",
      " [ 445    0]]\n"
     ]
    }
   ],
   "source": [
    "# import SVC from sklearn\n",
    "from sklearn.svm import SVC\n",
    "\n",
    "from datetime import datetime\n",
    "print(\"Start search time:\", datetime.now())\n",
    "\n",
    "# Initialize SVM classifier with a radial kernel\n",
    "svm_classifier = SVC(kernel='rbf', random_state=42)\n",
    "\n",
    "# Train the model on the training set\n",
    "svm_classifier.fit(X_train, y_train)\n",
    "\n",
    "# Predict the responses for the test set\n",
    "y_pred_svm = svm_classifier.predict(X_test)\n",
    "\n",
    "# Calculate accuracy\n",
    "accuracy = metrics.accuracy_score(y_test, y_pred_svm)\n",
    "\n",
    "# Calculate confusion matrix\n",
    "conf_matrix = metrics.confusion_matrix(y_test, y_pred_svm)\n",
    "\n",
    "print(\"\\nAccuracy:\", accuracy)\n",
    "print(\"\\nConfusion Matrix:\\n\", conf_matrix)"
   ]
  },
  {
   "cell_type": "code",
   "execution_count": 3,
   "id": "73491095-7f00-4ce7-a563-94e9ca9c49d2",
   "metadata": {},
   "outputs": [
    {
     "name": "stdout",
     "output_type": "stream",
     "text": [
      "<class 'pandas.core.frame.DataFrame'>\n",
      "Index: 6377 entries, 1 to 9999\n",
      "Data columns (total 12 columns):\n",
      " #   Column            Non-Null Count  Dtype  \n",
      "---  ------            --------------  -----  \n",
      " 0   customer_id       6377 non-null   int64  \n",
      " 1   credit_score      6377 non-null   int64  \n",
      " 2   country           6377 non-null   object \n",
      " 3   gender            6377 non-null   object \n",
      " 4   age               6377 non-null   float64\n",
      " 5   tenure            6377 non-null   float64\n",
      " 6   balance           6377 non-null   float64\n",
      " 7   products_number   6377 non-null   float64\n",
      " 8   credit_card       6377 non-null   float64\n",
      " 9   active_member     6377 non-null   float64\n",
      " 10  estimated_salary  6377 non-null   float64\n",
      " 11  churn             6377 non-null   int64  \n",
      "dtypes: float64(7), int64(3), object(2)\n",
      "memory usage: 647.7+ KB\n",
      "Start search time: 2024-02-23 08:58:49.707282\n",
      "Fitting 3 folds for each of 18 candidates, totalling 54 fits\n",
      "Best parameters: {'C': 0.1, 'gamma': 0.5, 'kernel': 'rbf'}\n",
      "Best estimator: SVC(C=0.1, gamma=0.5)\n",
      "End search time: 2024-02-23 09:54:06.239403\n",
      "\n",
      "Accuracy: 0.7675026123301986\n"
     ]
    },
    {
     "data": {
      "image/png": "[encoded data removed]",
      "text/plain": [
       "<Figure size 640x480 with 2 Axes>"
      ]
     },
     "metadata": {},
     "output_type": "display_data"
    }
   ],
   "source": [
    "#Import the os library to use file and folder methods\n",
    "import os\n",
    "\n",
    "# view the current working directory\n",
    "os.getcwd()\n",
    "\n",
    "from sklearn.svm import SVC\n",
    "from matplotlib import pyplot as plt\n",
    "from sklearn import metrics\n",
    "from sklearn.model_selection import train_test_split\n",
    "import pandas as pd\n",
    "import numpy as np\n",
    "from sklearn import metrics\n",
    "\n",
    "file_path = r'C:\\Users\\jason\\OneDrive\\Documents\\MBAD 6211 LAST SEMESTER\\bankchurn.csv'\n",
    "data = pd.read_csv(file_path)\n",
    "\n",
    "data_nonull = data.dropna()\n",
    "data_nonull.info()\n",
    "\n",
    "data_nonull = data_nonull.drop([\"customer_id\"], axis = 1)\n",
    "data_nonull.head()\n",
    "\n",
    "data_nonull = pd.get_dummies(data_nonull, dtype = int)\n",
    "data_nonull\n",
    "\n",
    "# SVM - Fine tuning with GridSearchCV\n",
    "# using datetime to time the fine tuning process\n",
    "from datetime import datetime\n",
    "print(\"Start search time:\", datetime.now())\n",
    "\n",
    "# find the best parameters \n",
    "from sklearn.model_selection import GridSearchCV\n",
    "\n",
    "# make y (dependent variable) as np.array\n",
    "y = np.array(data_nonull[\"churn\"])\n",
    "\n",
    "# make x a dataframe subset with independent variables\n",
    "x = data_nonull.drop(\"churn\", axis=1)\n",
    "\n",
    "# Assuming X_train, y_train, X_test, y_test are defined elsewhere in the notebook\n",
    "# split the dataset into training and testing\n",
    "# since random sampling is used, set the random seed to a fixed value\n",
    "X_train, X_test, y_train, y_test = train_test_split(x, y, test_size = 0.30, random_state = 44)\n",
    "\n",
    "# SVM -- Tunning parameters \n",
    "param = {\n",
    "    'C':[0.1, 1, 5],\n",
    "    'gamma': [0.5, 0.75, 1 ], # 1/n_features\n",
    "    'kernel': ['rbf', 'linear'] \n",
    "}\n",
    "\n",
    "SVM = SVC()\n",
    "\n",
    "# search parameters: cv=cross validation blocks; verbose=higher value show more steps\n",
    "# n_jobs=-1 uses all available CPU cores; \n",
    "grid = GridSearchCV(estimator=SVM, \n",
    "                    param_grid=param,\n",
    "                    scoring=\"accuracy\",\n",
    "                    verbose=1, cv=3)\n",
    "\n",
    "grid.fit(X_train, y_train)\n",
    "\n",
    "print(\"Best parameters:\", grid.best_params_)\n",
    "\n",
    "print(\"Best estimator:\", grid.best_estimator_)\n",
    "\n",
    "# end grid search\n",
    "print(\"End search time:\", datetime.now())\n",
    "\n",
    "# confusion matrix \n",
    "\n",
    "final_model_svm = grid.best_estimator_\n",
    "\n",
    "y_pred = final_model_svm.predict(X_test)\n",
    "\n",
    "# get accuracy and confusion matrix\n",
    "accuracy = metrics.accuracy_score(y_test, y_pred)\n",
    "print(\"\\nAccuracy:\", accuracy)\n",
    "\n",
    "cm = metrics.confusion_matrix(y_test,y_pred) # row - true value; column - predicted\n",
    "disp = metrics.ConfusionMatrixDisplay(confusion_matrix=cm).plot()\n",
    "plt.show() # display all open figures"
   ]
  },
  {
   "cell_type": "code",
   "execution_count": null,
   "id": "33d966b4-5aef-40e3-858f-b2b71af29cb9",
   "metadata": {},
   "outputs": [],
   "source": []
  }
 ],
 "metadata": {
  "kernelspec": {
   "display_name": "Python 3 (ipykernel)",
   "language": "python",
   "name": "python3"
  },
  "language_info": {
   "codemirror_mode": {
    "name": "ipython",
    "version": 3
   },
   "file_extension": ".py",
   "mimetype": "text/x-python",
   "name": "python",
   "nbconvert_exporter": "python",
   "pygments_lexer": "ipython3",
   "version": "3.11.5"
  }
 },
 "nbformat": 4,
 "nbformat_minor": 5
}
